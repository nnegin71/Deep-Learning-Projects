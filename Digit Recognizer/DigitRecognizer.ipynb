{
 "cells": [
  {
   "cell_type": "markdown",
   "id": "f1acf881-2c29-44a2-abad-29e130991e49",
   "metadata": {},
   "source": [
    "# **Digit Recognizer**"
   ]
  },
  {
   "cell_type": "markdown",
   "id": "c801039c-10c5-48f2-bd2b-41e584a26ebc",
   "metadata": {},
   "source": [
    "## Importing libraries"
   ]
  },
  {
   "cell_type": "code",
   "execution_count": 1,
   "id": "6b9959b5-34f5-4868-9e12-9fdada3b11ce",
   "metadata": {},
   "outputs": [],
   "source": [
    "import numpy as np\n",
    "import pandas as pd\n",
    "import matplotlib.pyplot as plt\n",
    "\n",
    "import torch\n",
    "from torch import nn\n",
    "from torch.utils.data import Dataset, DataLoader\n",
    "\n",
    "from sklearn.metrics import accuracy_score"
   ]
  },
  {
   "cell_type": "markdown",
   "id": "b0700795-b997-4db4-84a2-244ed35b0756",
   "metadata": {},
   "source": [
    "## Loading train/test data"
   ]
  },
  {
   "cell_type": "code",
   "execution_count": 2,
   "id": "31697c60-fff5-4158-839f-d63d723173d2",
   "metadata": {},
   "outputs": [
    {
     "data": {
      "text/html": [
       "<div>\n",
       "<style scoped>\n",
       "    .dataframe tbody tr th:only-of-type {\n",
       "        vertical-align: middle;\n",
       "    }\n",
       "\n",
       "    .dataframe tbody tr th {\n",
       "        vertical-align: top;\n",
       "    }\n",
       "\n",
       "    .dataframe thead th {\n",
       "        text-align: right;\n",
       "    }\n",
       "</style>\n",
       "<table border=\"1\" class=\"dataframe\">\n",
       "  <thead>\n",
       "    <tr style=\"text-align: right;\">\n",
       "      <th></th>\n",
       "      <th>label</th>\n",
       "      <th>pixel0</th>\n",
       "      <th>pixel1</th>\n",
       "      <th>pixel2</th>\n",
       "      <th>pixel3</th>\n",
       "      <th>pixel4</th>\n",
       "      <th>pixel5</th>\n",
       "      <th>pixel6</th>\n",
       "      <th>pixel7</th>\n",
       "      <th>pixel8</th>\n",
       "      <th>...</th>\n",
       "      <th>pixel774</th>\n",
       "      <th>pixel775</th>\n",
       "      <th>pixel776</th>\n",
       "      <th>pixel777</th>\n",
       "      <th>pixel778</th>\n",
       "      <th>pixel779</th>\n",
       "      <th>pixel780</th>\n",
       "      <th>pixel781</th>\n",
       "      <th>pixel782</th>\n",
       "      <th>pixel783</th>\n",
       "    </tr>\n",
       "  </thead>\n",
       "  <tbody>\n",
       "    <tr>\n",
       "      <th>0</th>\n",
       "      <td>1</td>\n",
       "      <td>0</td>\n",
       "      <td>0</td>\n",
       "      <td>0</td>\n",
       "      <td>0</td>\n",
       "      <td>0</td>\n",
       "      <td>0</td>\n",
       "      <td>0</td>\n",
       "      <td>0</td>\n",
       "      <td>0</td>\n",
       "      <td>...</td>\n",
       "      <td>0</td>\n",
       "      <td>0</td>\n",
       "      <td>0</td>\n",
       "      <td>0</td>\n",
       "      <td>0</td>\n",
       "      <td>0</td>\n",
       "      <td>0</td>\n",
       "      <td>0</td>\n",
       "      <td>0</td>\n",
       "      <td>0</td>\n",
       "    </tr>\n",
       "    <tr>\n",
       "      <th>1</th>\n",
       "      <td>0</td>\n",
       "      <td>0</td>\n",
       "      <td>0</td>\n",
       "      <td>0</td>\n",
       "      <td>0</td>\n",
       "      <td>0</td>\n",
       "      <td>0</td>\n",
       "      <td>0</td>\n",
       "      <td>0</td>\n",
       "      <td>0</td>\n",
       "      <td>...</td>\n",
       "      <td>0</td>\n",
       "      <td>0</td>\n",
       "      <td>0</td>\n",
       "      <td>0</td>\n",
       "      <td>0</td>\n",
       "      <td>0</td>\n",
       "      <td>0</td>\n",
       "      <td>0</td>\n",
       "      <td>0</td>\n",
       "      <td>0</td>\n",
       "    </tr>\n",
       "    <tr>\n",
       "      <th>2</th>\n",
       "      <td>1</td>\n",
       "      <td>0</td>\n",
       "      <td>0</td>\n",
       "      <td>0</td>\n",
       "      <td>0</td>\n",
       "      <td>0</td>\n",
       "      <td>0</td>\n",
       "      <td>0</td>\n",
       "      <td>0</td>\n",
       "      <td>0</td>\n",
       "      <td>...</td>\n",
       "      <td>0</td>\n",
       "      <td>0</td>\n",
       "      <td>0</td>\n",
       "      <td>0</td>\n",
       "      <td>0</td>\n",
       "      <td>0</td>\n",
       "      <td>0</td>\n",
       "      <td>0</td>\n",
       "      <td>0</td>\n",
       "      <td>0</td>\n",
       "    </tr>\n",
       "    <tr>\n",
       "      <th>3</th>\n",
       "      <td>4</td>\n",
       "      <td>0</td>\n",
       "      <td>0</td>\n",
       "      <td>0</td>\n",
       "      <td>0</td>\n",
       "      <td>0</td>\n",
       "      <td>0</td>\n",
       "      <td>0</td>\n",
       "      <td>0</td>\n",
       "      <td>0</td>\n",
       "      <td>...</td>\n",
       "      <td>0</td>\n",
       "      <td>0</td>\n",
       "      <td>0</td>\n",
       "      <td>0</td>\n",
       "      <td>0</td>\n",
       "      <td>0</td>\n",
       "      <td>0</td>\n",
       "      <td>0</td>\n",
       "      <td>0</td>\n",
       "      <td>0</td>\n",
       "    </tr>\n",
       "    <tr>\n",
       "      <th>4</th>\n",
       "      <td>0</td>\n",
       "      <td>0</td>\n",
       "      <td>0</td>\n",
       "      <td>0</td>\n",
       "      <td>0</td>\n",
       "      <td>0</td>\n",
       "      <td>0</td>\n",
       "      <td>0</td>\n",
       "      <td>0</td>\n",
       "      <td>0</td>\n",
       "      <td>...</td>\n",
       "      <td>0</td>\n",
       "      <td>0</td>\n",
       "      <td>0</td>\n",
       "      <td>0</td>\n",
       "      <td>0</td>\n",
       "      <td>0</td>\n",
       "      <td>0</td>\n",
       "      <td>0</td>\n",
       "      <td>0</td>\n",
       "      <td>0</td>\n",
       "    </tr>\n",
       "  </tbody>\n",
       "</table>\n",
       "<p>5 rows × 785 columns</p>\n",
       "</div>"
      ],
      "text/plain": [
       "   label  pixel0  pixel1  pixel2  pixel3  pixel4  pixel5  pixel6  pixel7  \\\n",
       "0      1       0       0       0       0       0       0       0       0   \n",
       "1      0       0       0       0       0       0       0       0       0   \n",
       "2      1       0       0       0       0       0       0       0       0   \n",
       "3      4       0       0       0       0       0       0       0       0   \n",
       "4      0       0       0       0       0       0       0       0       0   \n",
       "\n",
       "   pixel8  ...  pixel774  pixel775  pixel776  pixel777  pixel778  pixel779  \\\n",
       "0       0  ...         0         0         0         0         0         0   \n",
       "1       0  ...         0         0         0         0         0         0   \n",
       "2       0  ...         0         0         0         0         0         0   \n",
       "3       0  ...         0         0         0         0         0         0   \n",
       "4       0  ...         0         0         0         0         0         0   \n",
       "\n",
       "   pixel780  pixel781  pixel782  pixel783  \n",
       "0         0         0         0         0  \n",
       "1         0         0         0         0  \n",
       "2         0         0         0         0  \n",
       "3         0         0         0         0  \n",
       "4         0         0         0         0  \n",
       "\n",
       "[5 rows x 785 columns]"
      ]
     },
     "execution_count": 2,
     "metadata": {},
     "output_type": "execute_result"
    }
   ],
   "source": [
    "train_data = pd.read_csv('./train.csv')\n",
    "test_data = pd.read_csv('./test.csv')\n",
    "train_data.head()\n",
    "# first element is the lable, the 784 rest are the input image pixsls"
   ]
  },
  {
   "cell_type": "code",
   "execution_count": 3,
   "id": "2e86d70d-4283-46c9-af05-d906a6079f6d",
   "metadata": {},
   "outputs": [
    {
     "name": "stdout",
     "output_type": "stream",
     "text": [
      "data shape is (42000, 785)\n"
     ]
    }
   ],
   "source": [
    "print(f'data shape is {train_data.shape}')"
   ]
  },
  {
   "cell_type": "code",
   "execution_count": 4,
   "id": "46bd94f2-2df3-4f3c-8dd1-76b50c88aa84",
   "metadata": {},
   "outputs": [],
   "source": [
    "## Separating labeled values from input values, convert to numpy array, and cast its type\n",
    "X = (train_data.iloc[:,1:].values).astype('float32')\n",
    "Y = (train_data.iloc[:,0].values).astype('int32')\n",
    "X_test = (test_data.values).astype('float32')"
   ]
  },
  {
   "cell_type": "markdown",
   "id": "37d2e3ac-97b7-4474-80dc-b8dfca534085",
   "metadata": {},
   "source": [
    "## Divid dataset to train and validation"
   ]
  },
  {
   "cell_type": "code",
   "execution_count": 5,
   "id": "6f62eea6-9b98-44e0-86df-deab66a86b9d",
   "metadata": {},
   "outputs": [],
   "source": [
    "from sklearn.model_selection import train_test_split\n",
    "X_train, X_val, Y_train, Y_val = train_test_split(X,Y,test_size=0.2)"
   ]
  },
  {
   "cell_type": "code",
   "execution_count": 6,
   "id": "2d736060-8a2f-403e-a5a3-b4b3156f0fd1",
   "metadata": {},
   "outputs": [
    {
     "name": "stdout",
     "output_type": "stream",
     "text": [
      "X_train shape is (33600, 784)\n",
      "X_val shape is (8400, 784)\n"
     ]
    }
   ],
   "source": [
    "print(f'X_train shape is {X_train.shape}')\n",
    "print(f'X_val shape is {X_val.shape}')"
   ]
  },
  {
   "cell_type": "markdown",
   "id": "166350b8-a709-4d7c-bb46-f4b544dba7bd",
   "metadata": {},
   "source": [
    "## Data visualization"
   ]
  },
  {
   "cell_type": "code",
   "execution_count": 7,
   "id": "dd9e5dd6-76ff-4a20-928a-debddebe6612",
   "metadata": {},
   "outputs": [
    {
     "data": {
      "text/plain": [
       "28.0"
      ]
     },
     "execution_count": 7,
     "metadata": {},
     "output_type": "execute_result"
    }
   ],
   "source": [
    "np.sqrt(784)"
   ]
  },
  {
   "cell_type": "code",
   "execution_count": 8,
   "id": "fe8fb368-ed89-4c45-a76e-e089b2cf00a7",
   "metadata": {},
   "outputs": [],
   "source": [
    "# To visualize the images\n",
    "def show_data(ax,X,Y,index):\n",
    "    ax.imshow(X[index,:].reshape(image_size, image_size), cmap= 'gray')\n",
    "    ax.set_title('y='+str(Y[index]))"
   ]
  },
  {
   "cell_type": "code",
   "execution_count": 9,
   "id": "971228e8-fa41-4caa-94dd-ffb0c4ad2ff5",
   "metadata": {},
   "outputs": [
    {
     "data": {
      "image/png": "[encoded data removed]",
      "text/plain": [
       "<Figure size 640x480 with 3 Axes>"
      ]
     },
     "metadata": {},
     "output_type": "display_data"
    }
   ],
   "source": [
    "image_size = 28\n",
    "X_train = X_train.reshape(X_train.shape[0],image_size,image_size)\n",
    "\n",
    "# plot a couple of images\n",
    "fig, ax = plt.subplots(1,3)\n",
    "for i in range(3):\n",
    "    show_data(ax[i],X_train, Y_train, i+10)"
   ]
  },
  {
   "cell_type": "markdown",
   "id": "61a35397-174d-4a22-9bf1-4679578490c0",
   "metadata": {},
   "source": [
    "**Expand data shape to add 1 dimension for gray color**"
   ]
  },
  {
   "cell_type": "code",
   "execution_count": 10,
   "id": "e3afd368-a3ed-4aa4-8255-fd5556318b2d",
   "metadata": {},
   "outputs": [
    {
     "name": "stdout",
     "output_type": "stream",
     "text": [
      "Shape of train data is (33600, 28, 28, 1)\n",
      "Shape of validatio data is (8400, 28, 28, 1)\n",
      "Shape of test data is (28000, 28, 28, 1)\n"
     ]
    }
   ],
   "source": [
    "X_train = X_train.reshape(X_train.shape[0],image_size,image_size,1)\n",
    "X_val = X_val.reshape(X_val.shape[0],image_size,image_size,1)\n",
    "X_test = X_test.reshape(X_test.shape[0],image_size,image_size,1)\n",
    "print(f'Shape of train data is {X_train.shape}')\n",
    "print(f'Shape of validatio data is {X_val.shape}')\n",
    "print(f'Shape of test data is {X_test.shape}')"
   ]
  },
  {
   "cell_type": "markdown",
   "id": "7b44765d-b6c6-4c49-8ed0-622395a18fec",
   "metadata": {},
   "source": [
    "## Creating Dataset and Data loaders"
   ]
  },
  {
   "cell_type": "code",
   "execution_count": 11,
   "id": "1b4e19c9-05d0-4c57-9dee-ed111f670fb6",
   "metadata": {},
   "outputs": [],
   "source": [
    "class dataset(Dataset):\n",
    "    def __init__(self, images, labels):\n",
    "        self.images = torch.tensor(images, dtype = torch.float32)\n",
    "        self.labels = torch.tensor(labels, dtype=torch.long)\n",
    "\n",
    "    def __len__(self):\n",
    "        return len(self.images)\n",
    "\n",
    "    def __getitem__(self, idx):\n",
    "        return self.images[idx], self.labels[idx]\n",
    "        \n",
    "# reshape data\n",
    "X_train = X_train.reshape(-1, 1, image_size, image_size).astype('float32')\n",
    "X_val = X_val.reshape(-1, 1, image_size, image_size).astype('float32')\n",
    "\n",
    "# dataset and dataloader\n",
    "train_data = dataset(X_train, Y_train)\n",
    "train_loader = DataLoader(train_data, \n",
    "                         batch_size = 100, \n",
    "                         shuffle = True, \n",
    "                         drop_last = True)\n",
    "\n",
    "val_data = dataset(X_val, Y_val)\n",
    "val_loader = DataLoader(val_data, \n",
    "                         batch_size = 100, \n",
    "                         shuffle = False, \n",
    "                         drop_last = False)\n"
   ]
  },
  {
   "cell_type": "markdown",
   "id": "cd081df9-f8da-4e69-b22b-d1f8b30f353f",
   "metadata": {},
   "source": [
    "## Convolutional Neural Network"
   ]
  },
  {
   "cell_type": "code",
   "execution_count": 12,
   "id": "7422a147-36c6-4d05-b4a8-f084ed19bef7",
   "metadata": {},
   "outputs": [
    {
     "name": "stdout",
     "output_type": "stream",
     "text": [
      "CNN(\n",
      "  (cnn1): Conv2d(1, 16, kernel_size=(5, 5), stride=(1, 1), padding=(2, 2))\n",
      "  (maxpool1): MaxPool2d(kernel_size=2, stride=2, padding=0, dilation=1, ceil_mode=False)\n",
      "  (cnn2): Conv2d(16, 32, kernel_size=(5, 5), stride=(1, 1), padding=(2, 2))\n",
      "  (maxpool2): MaxPool2d(kernel_size=2, stride=2, padding=0, dilation=1, ceil_mode=False)\n",
      "  (fc): Linear(in_features=1568, out_features=10, bias=True)\n",
      ")\n"
     ]
    }
   ],
   "source": [
    "# fix random seed for reproducability \n",
    "np.random.seed(43)\n",
    "\n",
    "class CNN(nn.Module):\n",
    "    def __init__(self,out_1, out_2 ):\n",
    "        super(CNN, self).__init__()\n",
    "        self.cnn1 = nn.Conv2d(in_channels=1, out_channels=out_1, kernel_size=5, padding=2)\n",
    "        self.maxpool1 = nn.MaxPool2d(kernel_size=2)\n",
    "\n",
    "        self.cnn2 = nn.Conv2d(in_channels=out_1, out_channels=out_2, kernel_size=5, stride=1, padding=2)\n",
    "        self.maxpool2 = nn.MaxPool2d(kernel_size=2)\n",
    "        \n",
    "        self.fc = nn.Linear(out_2*7*7, 10)\n",
    "    def forward(self, x):\n",
    "        x = self.cnn1(x)\n",
    "        x= torch.relu(x)\n",
    "        x= self.maxpool1(x)\n",
    "        x = self.cnn2(x)\n",
    "        x = torch.relu(x)\n",
    "        x = self.maxpool2(x)\n",
    "        x = x.view(x.size(0),-1)\n",
    "        x = self.fc(x)\n",
    "        return x\n",
    "\n",
    "model = CNN(16,32)\n",
    "model.eval()\n",
    "print(model)"
   ]
  },
  {
   "cell_type": "code",
   "execution_count": 13,
   "id": "2b81e955-4580-4757-a757-8079459d6fd8",
   "metadata": {},
   "outputs": [
    {
     "name": "stdout",
     "output_type": "stream",
     "text": [
      "For epoch number 0, the training loss is 286.4225158691406, and the validation accuracy is 94.27380952380952%\n",
      "For epoch number 1, the training loss is 53.0833625793457, and the validation accuracy is 95.94047619047619%\n",
      "For epoch number 2, the training loss is 39.256690979003906, and the validation accuracy is 96.53571428571429%\n",
      "For epoch number 3, the training loss is 32.744163513183594, and the validation accuracy is 96.88095238095238%\n",
      "For epoch number 4, the training loss is 28.609806060791016, and the validation accuracy is 97.38095238095238%\n",
      "For epoch number 5, the training loss is 25.50507926940918, and the validation accuracy is 97.30952380952381%\n",
      "For epoch number 6, the training loss is 23.691904067993164, and the validation accuracy is 97.48809523809524%\n",
      "For epoch number 7, the training loss is 22.052963256835938, and the validation accuracy is 97.86904761904762%\n",
      "For epoch number 8, the training loss is 20.879175186157227, and the validation accuracy is 97.96428571428571%\n",
      "For epoch number 9, the training loss is 19.754268646240234, and the validation accuracy is 97.83333333333333%\n"
     ]
    }
   ],
   "source": [
    "def training_cnn(n_epochs, train_loader, val_loader, model, optimizer, criterion):\n",
    "    cost_list = []\n",
    "    accuracy_list = []\n",
    "    model.train()\n",
    "    for epoch in range(n_epochs):\n",
    "        #-- Tuning\n",
    "        cost = 0 \n",
    "        for x,y in train_loader: \n",
    "            # reset optimizer\n",
    "            optimizer.zero_grad()\n",
    "            predict = model(x)\n",
    "            # calculate loss\n",
    "            loss = criterion(predict, y)\n",
    "            # calculate gradients\n",
    "            loss.backward()\n",
    "            # update parameters\n",
    "            optimizer.step()\n",
    "            cost += loss\n",
    "        cost_list.append(cost.item())\n",
    "        \n",
    "        #-- Validation\n",
    "        model.eval()\n",
    "        correct = 0 \n",
    "        N_test = 0\n",
    "        for x_val,y_val in val_loader:\n",
    "            z_val = model(x_val)\n",
    "            _, yhat = torch.max(z_val.data,1)\n",
    "            correct += (yhat==y_val).sum().item()\n",
    "            N_test += y_val.size(0)\n",
    "        curr_accuracy = 100*correct/N_test\n",
    "        accuracy_list.append(curr_accuracy)\n",
    "        print(f\"For epoch number {epoch}, the training loss is {cost}, and the validation accuracy is {curr_accuracy}%\")\n",
    "    return cost_list , accuracy_list\n",
    "\n",
    "\n",
    "# Tuning CNN Model\n",
    "learning_rate = 0.001\n",
    "n_epochs = 10\n",
    "\n",
    "criterion = nn.CrossEntropyLoss()\n",
    "optimizer = torch.optim.SGD(model.parameters(), lr=learning_rate , weight_decay = 0.1)\n",
    "\n",
    "cost_list , accuracy_list = training_cnn(n_epochs = n_epochs, \n",
    "                                        train_loader = train_loader, \n",
    "                                        val_loader = val_loader, \n",
    "                                        model = model, \n",
    "                                        optimizer = optimizer,\n",
    "                                        criterion = criterion)\n",
    "            "
   ]
  },
  {
   "cell_type": "markdown",
   "id": "947e551b-57a7-4f83-85c3-988c5201d87a",
   "metadata": {},
   "source": [
    "## Plot loss and accuracy results"
   ]
  },
  {
   "cell_type": "code",
   "execution_count": 14,
   "id": "993359bc-0837-4c0d-a796-742939d4bbe9",
   "metadata": {},
   "outputs": [
    {
     "data": {
      "image/png": "[encoded data removed]",
      "text/plain": [
       "<Figure size 640x480 with 2 Axes>"
      ]
     },
     "metadata": {},
     "output_type": "display_data"
    }
   ],
   "source": [
    "fig, ax1 = plt.subplots()\n",
    "color = 'tab:red'\n",
    "ax1.plot(cost_list, color=color)\n",
    "ax1.set_xlabel('epoch', color=color)\n",
    "ax1.set_ylabel('Cost', color=color)\n",
    "ax1.tick_params(axis='y', color=color)\n",
    "    \n",
    "ax2 = ax1.twinx()  \n",
    "color = 'tab:blue'\n",
    "ax2.set_ylabel('accuracy', color=color) \n",
    "ax2.set_xlabel('epoch', color=color)\n",
    "ax2.plot(accuracy_list, color=color)\n",
    "ax2.tick_params(axis='y', color=color)\n",
    "fig.tight_layout()"
   ]
  },
  {
   "cell_type": "markdown",
   "id": "f8c157af-825f-4e4f-949b-1e9b46acbf8e",
   "metadata": {},
   "source": [
    "## Evaluate some miss-classified examples"
   ]
  },
  {
   "cell_type": "code",
   "execution_count": 15,
   "id": "feee9e3b-0776-4948-bb0b-e4d81df01bd2",
   "metadata": {},
   "outputs": [
    {
     "name": "stdout",
     "output_type": "stream",
     "text": [
      "yhat:  tensor([9])\n",
      "yhat:  tensor([8])\n",
      "yhat:  tensor([8])\n",
      "yhat:  tensor([9])\n",
      "yhat:  tensor([9])\n"
     ]
    },
    {
     "data": {
      "image/png": "[encoded data removed]",
      "text/plain": [
       "<Figure size 640x480 with 5 Axes>"
      ]
     },
     "metadata": {},
     "output_type": "display_data"
    }
   ],
   "source": [
    "count = 5\n",
    "counter = 0\n",
    "fig,ax = plt.subplots(1,count)\n",
    "# iterate over a dataLoader with batch-size of 1\n",
    "for x, y in DataLoader(val_data, batch_size=1):\n",
    "    z = model(x)\n",
    "    _, yhat = torch.max(z, 1)\n",
    "    if yhat != y:\n",
    "        show_data(ax[counter],x, y, 0)\n",
    "        print(\"yhat: \",yhat)\n",
    "        counter += 1\n",
    "    if counter >= 5:\n",
    "        break"
   ]
  },
  {
   "cell_type": "markdown",
   "id": "07ad7e4d-12e7-4c3e-b933-5fdb9caec051",
   "metadata": {},
   "source": [
    "## Generating estimation for test data"
   ]
  },
  {
   "cell_type": "code",
   "execution_count": 16,
   "id": "538abf2e-afc3-4c5a-81d2-fa484eec7f87",
   "metadata": {},
   "outputs": [],
   "source": [
    "# prepare x_test\n",
    "X_test_tensor = torch.tensor(X_test, dtype=torch.float32).view(-1, 1, image_size, image_size)\n",
    "\n",
    "# Inference (no gradients needed)\n",
    "with torch.no_grad():\n",
    "    z_prediction = model(X_test_tensor)\n",
    "    test_prediction = torch.argmax(z_prediction, dim=1).numpy()\n",
    "\n",
    "# Save as CSV\n",
    "pd.DataFrame(test_prediction).to_csv('sample_submission.csv', index=True, header=False)"
   ]
  },
  {
   "cell_type": "code",
   "execution_count": null,
   "id": "9af670f8-6793-45d3-b583-f7072ae7bb02",
   "metadata": {},
   "outputs": [],
   "source": []
  }
 ],
 "metadata": {
  "kernelspec": {
   "display_name": "Python 3 (ipykernel)",
   "language": "python",
   "name": "python3"
  },
  "language_info": {
   "codemirror_mode": {
    "name": "ipython",
    "version": 3
   },
   "file_extension": ".py",
   "mimetype": "text/x-python",
   "name": "python",
   "nbconvert_exporter": "python",
   "pygments_lexer": "ipython3",
   "version": "3.10.7"
  }
 },
 "nbformat": 4,
 "nbformat_minor": 5
}
