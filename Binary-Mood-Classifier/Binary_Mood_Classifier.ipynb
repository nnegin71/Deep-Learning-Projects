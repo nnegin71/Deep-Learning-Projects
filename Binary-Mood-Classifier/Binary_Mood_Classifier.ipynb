{
 "cells": [
  {
   "cell_type": "markdown",
   "id": "e9351003-2c76-4b72-b0ce-06d226471104",
   "metadata": {},
   "source": [
    "# Problem Statement\n",
    "You'll be using the Happy House dataset for this part of the assignment, which contains images of peoples' faces. Your task will be to build a ConvNet that determines whether the people in the images are smiling or not -- because they only get to enter the house if they're smiling!"
   ]
  },
  {
   "cell_type": "code",
   "execution_count": 1,
   "id": "f3bc9912-c840-4cd6-92a7-42d476ae0de6",
   "metadata": {},
   "outputs": [],
   "source": [
    "import math\n",
    "import numpy as np\n",
    "import h5py\n",
    "import matplotlib.pyplot as plt\n",
    "from matplotlib.pyplot import imread\n",
    "import pandas as pd\n",
    "import tensorflow as tf\n",
    "import tensorflow.keras.layers as tfl\n",
    "\n",
    "np.random.seed(1)"
   ]
  },
  {
   "cell_type": "markdown",
   "id": "37061b11-850c-4d40-af91-af5470862e70",
   "metadata": {},
   "source": [
    "### Loading Data"
   ]
  },
  {
   "cell_type": "code",
   "execution_count": 3,
   "id": "f8e5e150-a683-4424-8934-02fc053b862f",
   "metadata": {},
   "outputs": [],
   "source": [
    "train_dataset = h5py.File('HappyHousedataset/train_happy.h5', \"r\")\n",
    "X_train_orig = np.array(train_dataset[\"train_set_x\"][:]) # train set features\n",
    "Y_train_orig = np.array(train_dataset[\"train_set_y\"][:]) # train set labels\n",
    "\n",
    "test_dataset = h5py.File('HappyHousedataset/test_happy.h5', \"r\")\n",
    "X_test_orig = np.array(test_dataset[\"test_set_x\"][:]) # test set features\n",
    "Y_test_orig = np.array(test_dataset[\"test_set_y\"][:]) # test set labels\n",
    "\n",
    "# the list of classes\n",
    "classes = np.array(test_dataset[\"list_classes\"][:]) "
   ]
  },
  {
   "cell_type": "code",
   "execution_count": 20,
   "id": "e1f159ef-c79e-4ca3-9662-d0f02a9cc0a0",
   "metadata": {},
   "outputs": [],
   "source": [
    "# normalize image vectors\n",
    "X_train = X_train_orig/255.\n",
    "X_test = X_test_orig/255\n",
    "\n",
    "# reshape labels\n",
    "Y_train_orig = Y_train_orig.reshape((1, Y_train_orig.shape[0]))\n",
    "Y_test_orig = Y_test_orig.reshape((1, Y_test_orig.shape[0]))\n",
    "\n",
    "Y_train = Y_train_orig.T\n",
    "Y_test = Y_test_orig.T"
   ]
  },
  {
   "cell_type": "code",
   "execution_count": 37,
   "id": "57cc5eed-e925-46c4-8634-4b122bf8c9ba",
   "metadata": {},
   "outputs": [
    {
     "data": {
      "image/png": "[encoded data removed]",
      "text/plain": [
       "<Figure size 640x480 with 1 Axes>"
      ]
     },
     "metadata": {},
     "output_type": "display_data"
    }
   ],
   "source": [
    "# check one of the images\n",
    "index = 50 \n",
    "plt.imshow(X_train[index])\n",
    "plt.title('Is_smailing = '+str(Y_train[index]))\n",
    "plt.show()"
   ]
  },
  {
   "cell_type": "code",
   "execution_count": 39,
   "id": "475964c8-5fa0-4b4f-8c6c-bed9b82191ce",
   "metadata": {},
   "outputs": [
    {
     "name": "stdout",
     "output_type": "stream",
     "text": [
      "number of training examples = 600\n",
      "number of test examples = 150\n",
      "X_train shape: (600, 64, 64, 3)\n",
      "Y_train shape: (600, 1)\n",
      "X_test shape: (150, 64, 64, 3)\n",
      "Y_test shape: (150, 1)\n"
     ]
    }
   ],
   "source": [
    "# data information\n",
    "print (\"number of training examples = \" + str(X_train.shape[0]))\n",
    "print (\"number of test examples = \" + str(X_test.shape[0]))\n",
    "print (\"X_train shape: \" + str(X_train.shape))\n",
    "print (\"Y_train shape: \" + str(Y_train.shape))\n",
    "print (\"X_test shape: \" + str(X_test.shape))\n",
    "print (\"Y_test shape: \" + str(Y_test.shape))"
   ]
  },
  {
   "cell_type": "markdown",
   "id": "71981a6e-f6b2-474d-a7bf-7c28a0135d1f",
   "metadata": {},
   "source": [
    "## Modeling\n",
    "we're developing a sequentioal API model using Keras library. \n",
    "\n",
    "Sequential model allows building layer by layer model, which is ideal for simpler tasks with one input tensor and one output tensor for each layer. "
   ]
  },
  {
   "cell_type": "code",
   "execution_count": 45,
   "id": "2d870cba-398e-494c-8c7d-4e034f7a1bab",
   "metadata": {},
   "outputs": [],
   "source": [
    "def happymodel():\n",
    "    \"\"\"\n",
    "    Implement forward propagation for the binary classification\n",
    "\n",
    "    Arguments:\n",
    "    None\n",
    "\n",
    "    Returns:\n",
    "    TF Keras Model\n",
    "    \"\"\"\n",
    "    model = tf.keras.Sequential([\n",
    "        # Zeropadding2D with padding 3 and input shape of (64x64x3)\n",
    "        tfl.ZeroPadding2D(padding=(3,3), input_shape=(64,64,3)),\n",
    "        # Conv2D layer with 32 7x7 filters and stride 1\n",
    "        tfl.Conv2D(filters=32, kernel_size=(7,7),strides=(1,1),activation='linear',padding='valid'),\n",
    "        # BatchNormalization \n",
    "        tfl.BatchNormalization(axis=3, momentum=0.99, epsilon=0.001),\n",
    "        # ReLU\n",
    "        tfl.ReLU(negative_slope=0.0,threshold=0.0),\n",
    "        # MaxPooling2D with default parameters\n",
    "        tfl.MaxPooling2D(pool_size=(2,2),strides=None),\n",
    "        # Flatten layer\n",
    "        tfl.Flatten(),\n",
    "        # FC Dense layer with 1 unit for output and sigmoid activation\n",
    "        tfl.Dense(units=1 , activation = 'sigmoid')    \n",
    "    ])\n",
    "    return model\n"
   ]
  },
  {
   "cell_type": "code",
   "execution_count": 46,
   "id": "e96997d6-e32c-4b70-8611-2449e1a34c54",
   "metadata": {},
   "outputs": [
    {
     "name": "stdout",
     "output_type": "stream",
     "text": [
      "Model: \"sequential\"\n",
      "_________________________________________________________________\n",
      " Layer (type)                Output Shape              Param #   \n",
      "=================================================================\n",
      " zero_padding2d_2 (ZeroPadd  (None, 70, 70, 3)         0         \n",
      " ing2D)                                                          \n",
      "                                                                 \n",
      " conv2d_2 (Conv2D)           (None, 64, 64, 32)        4736      \n",
      "                                                                 \n",
      " batch_normalization_2 (Bat  (None, 64, 64, 32)        128       \n",
      " chNormalization)                                                \n",
      "                                                                 \n",
      " re_lu_1 (ReLU)              (None, 64, 64, 32)        0         \n",
      "                                                                 \n",
      " max_pooling2d_1 (MaxPoolin  (None, 32, 32, 32)        0         \n",
      " g2D)                                                            \n",
      "                                                                 \n",
      " flatten_1 (Flatten)         (None, 32768)             0         \n",
      "                                                                 \n",
      " dense_1 (Dense)             (None, 1)                 32769     \n",
      "                                                                 \n",
      "=================================================================\n",
      "Total params: 37633 (147.00 KB)\n",
      "Trainable params: 37569 (146.75 KB)\n",
      "Non-trainable params: 64 (256.00 Byte)\n",
      "_________________________________________________________________\n"
     ]
    }
   ],
   "source": [
    "happymodel = happymodel()\n",
    "happymodel.summary()"
   ]
  },
  {
   "cell_type": "markdown",
   "id": "df347232-0ab3-445d-8d5c-57b0c7511c2c",
   "metadata": {},
   "source": [
    "## Compile the model"
   ]
  },
  {
   "cell_type": "code",
   "execution_count": 47,
   "id": "dbf60dcb-648f-4a90-b0e0-c6a0141eb593",
   "metadata": {},
   "outputs": [
    {
     "name": "stdout",
     "output_type": "stream",
     "text": [
      "Epoch 1/10\n",
      "38/38 [==============================] - 1s 17ms/step - loss: 0.6579 - accuracy: 0.8000\n",
      "Epoch 2/10\n",
      "38/38 [==============================] - 1s 17ms/step - loss: 0.2476 - accuracy: 0.8933\n",
      "Epoch 3/10\n",
      "38/38 [==============================] - 1s 18ms/step - loss: 0.1728 - accuracy: 0.9367\n",
      "Epoch 4/10\n",
      "38/38 [==============================] - 1s 18ms/step - loss: 0.1117 - accuracy: 0.9600\n",
      "Epoch 5/10\n",
      "38/38 [==============================] - 1s 18ms/step - loss: 0.1219 - accuracy: 0.9550\n",
      "Epoch 6/10\n",
      "38/38 [==============================] - 1s 18ms/step - loss: 0.0938 - accuracy: 0.9667\n",
      "Epoch 7/10\n",
      "38/38 [==============================] - 1s 17ms/step - loss: 0.0821 - accuracy: 0.9817\n",
      "Epoch 8/10\n",
      "38/38 [==============================] - 1s 17ms/step - loss: 0.0794 - accuracy: 0.9700\n",
      "Epoch 9/10\n",
      "38/38 [==============================] - 1s 17ms/step - loss: 0.0520 - accuracy: 0.9833\n",
      "Epoch 10/10\n",
      "38/38 [==============================] - 1s 17ms/step - loss: 0.0974 - accuracy: 0.9667\n"
     ]
    },
    {
     "data": {
      "text/plain": [
       "<keras.src.callbacks.History at 0x28b47f310>"
      ]
     },
     "execution_count": 47,
     "metadata": {},
     "output_type": "execute_result"
    }
   ],
   "source": [
    "# define optimizer, loss function and accuracy metris\n",
    "happymodel.compile(optimizer='adam',\n",
    "                  loss='binary_crossentropy',\n",
    "                  metrics=['accuracy'])\n",
    "\n",
    "# training\n",
    "happymodel.fit(X_train, Y_train, epochs=10, batch_size=16)"
   ]
  },
  {
   "cell_type": "code",
   "execution_count": 49,
   "id": "39a33120-44af-4e5c-b4d4-e8ae6a624ed1",
   "metadata": {},
   "outputs": [
    {
     "name": "stdout",
     "output_type": "stream",
     "text": [
      "5/5 [==============================] - 0s 10ms/step - loss: 0.2067 - accuracy: 0.9267\n"
     ]
    },
    {
     "data": {
      "text/plain": [
       "[0.20670445263385773, 0.9266666769981384]"
      ]
     },
     "execution_count": 49,
     "metadata": {},
     "output_type": "execute_result"
    }
   ],
   "source": [
    "happymodel.evaluate(X_test, Y_test)"
   ]
  },
  {
   "cell_type": "code",
   "execution_count": null,
   "id": "d7fe6a3b-8137-4dbb-b163-22751fca3390",
   "metadata": {},
   "outputs": [],
   "source": []
  }
 ],
 "metadata": {
  "kernelspec": {
   "display_name": "Python 3 (ipykernel)",
   "language": "python",
   "name": "python3"
  },
  "language_info": {
   "codemirror_mode": {
    "name": "ipython",
    "version": 3
   },
   "file_extension": ".py",
   "mimetype": "text/x-python",
   "name": "python",
   "nbconvert_exporter": "python",
   "pygments_lexer": "ipython3",
   "version": "3.10.7"
  }
 },
 "nbformat": 4,
 "nbformat_minor": 5
}
