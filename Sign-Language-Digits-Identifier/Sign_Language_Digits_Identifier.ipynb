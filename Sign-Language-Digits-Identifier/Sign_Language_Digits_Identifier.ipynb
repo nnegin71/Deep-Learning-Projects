{
 "cells": [
  {
   "cell_type": "markdown",
   "id": "9d7d89d3-8311-40e5-b905-463f9e7c58e7",
   "metadata": {},
   "source": [
    "## Problem Statement\n",
    "\n",
    "Develope a ConvNet model that differentiate between 6 sign language digits\n",
    "\n",
    "The Functional API can handle models with non-linear topology, shared layers, as well as layers with multiple inputs or outputs. It allows much more flexibility, like a grap where the nodes of the layers can connect in many more ways than one.\n"
   ]
  },
  {
   "cell_type": "code",
   "execution_count": 16,
   "id": "8b50ac79-80b4-497c-b939-91e099e28e5b",
   "metadata": {},
   "outputs": [],
   "source": [
    "import math\n",
    "import numpy as np\n",
    "import h5py\n",
    "import matplotlib.pyplot as plt\n",
    "from matplotlib.pyplot import imread\n",
    "import pandas as pd\n",
    "import tensorflow as tf\n",
    "import tensorflow.keras.layers as tfl\n",
    "\n",
    "np.random.seed(1)"
   ]
  },
  {
   "cell_type": "markdown",
   "id": "efe697fd-b4de-4f4b-8e6a-95f7527826fb",
   "metadata": {},
   "source": [
    "### Import Data"
   ]
  },
  {
   "cell_type": "code",
   "execution_count": 13,
   "id": "30439d08-659e-4f22-afcf-7cf4ea69bf96",
   "metadata": {},
   "outputs": [
    {
     "name": "stdout",
     "output_type": "stream",
     "text": [
      "Classes are:   [0 1 2 3 4 5]\n"
     ]
    }
   ],
   "source": [
    "train_dataset = h5py.File('Signdataset/train_signs.h5', \"r\")\n",
    "X_train_orig = np.array(train_dataset[\"train_set_x\"][:]) # train set features\n",
    "Y_train_orig = np.array(train_dataset[\"train_set_y\"][:]) # train set labels\n",
    "\n",
    "test_dataset = h5py.File('Signdataset/test_signs.h5', \"r\")\n",
    "X_test_orig = np.array(test_dataset[\"test_set_x\"][:]) # test set features\n",
    "Y_test_orig = np.array(test_dataset[\"test_set_y\"][:]) # test set labels\n",
    "\n",
    "# the list of classes\n",
    "classes = np.array(test_dataset[\"list_classes\"][:]) \n",
    "print('Classes are:  ',classes)\n",
    "\n",
    "Y_train_orig = Y_train_orig.reshape((1, Y_train_orig.shape[0]))\n",
    "Y_test_orig = Y_test_orig.reshape((1, Y_test_orig.shape[0]))"
   ]
  },
  {
   "cell_type": "code",
   "execution_count": 14,
   "id": "046df0ff-227c-4766-8c28-bdac40052707",
   "metadata": {},
   "outputs": [
    {
     "name": "stdout",
     "output_type": "stream",
     "text": [
      "y = 5\n"
     ]
    },
    {
     "data": {
      "image/png": "[encoded data removed]",
      "text/plain": [
       "<Figure size 640x480 with 1 Axes>"
      ]
     },
     "metadata": {},
     "output_type": "display_data"
    }
   ],
   "source": [
    "# Example of an image from the dataset\n",
    "index = 12\n",
    "plt.imshow(X_train_orig[index])\n",
    "print (\"y = \" + str(np.squeeze(Y_train_orig[:, index])))"
   ]
  },
  {
   "cell_type": "code",
   "execution_count": 15,
   "id": "a751f35d-4243-4e47-b11f-81573babaa9b",
   "metadata": {},
   "outputs": [
    {
     "name": "stdout",
     "output_type": "stream",
     "text": [
      "number of training examples = 1080\n",
      "number of test examples = 120\n",
      "X_train shape: (1080, 64, 64, 3)\n",
      "Y_train shape: (1080, 6)\n",
      "X_test shape: (120, 64, 64, 3)\n",
      "Y_test shape: (120, 6)\n"
     ]
    }
   ],
   "source": [
    "# data processing\n",
    "def convert_to_one_hot(Y, C):\n",
    "    Y = np.eye(C)[Y.reshape(-1)].T\n",
    "    return Y\n",
    "\n",
    "num_classes = len(classes)\n",
    "Y_train = convert_to_one_hot(Y_train_orig, num_classes).T\n",
    "Y_test = convert_to_one_hot(Y_test_orig, num_classes).T\n",
    "\n",
    "# normalizing\n",
    "X_train = X_train_orig/255.\n",
    "X_test = X_test_orig/255.\n",
    "\n",
    "# data information\n",
    "print (\"number of training examples = \" + str(X_train.shape[0]))\n",
    "print (\"number of test examples = \" + str(X_test.shape[0]))\n",
    "print (\"X_train shape: \" + str(X_train.shape))\n",
    "print (\"Y_train shape: \" + str(Y_train.shape))\n",
    "print (\"X_test shape: \" + str(X_test.shape))\n",
    "print (\"Y_test shape: \" + str(Y_test.shape))"
   ]
  },
  {
   "cell_type": "markdown",
   "id": "2e2f945f-b3d3-40f8-a2bd-0754240b0592",
   "metadata": {},
   "source": [
    "## Modeling"
   ]
  },
  {
   "cell_type": "code",
   "execution_count": 17,
   "id": "df8e1b3d-0db8-44f5-8207-53e02641401e",
   "metadata": {},
   "outputs": [],
   "source": [
    "def convolutional_model(input_shape):\n",
    "    \"\"\"\n",
    "    Implements the forward propagation for the model\n",
    "    \n",
    "    Arguments:\n",
    "    input_img -- input dataset, of shape (input_shape)\n",
    "\n",
    "    Returns:\n",
    "    model -- TF Keras model\n",
    "    \"\"\"\n",
    "    input_img = tf.keras.Input(shape=input_shape)\n",
    "    ## CONV2D: 8 filters 4x4, stride of 1, padding 'SAME'\n",
    "    Z1 = tf.keras.layers.Conv2D(filters = 8, kernel_size=(4,4), strides=(1,1), padding='same')(input_img)\n",
    "    ## RELU\n",
    "    A1 = tfl.ReLU()(Z1)\n",
    "    ## MAXPOOL: window 8x8, stride 8, padding 'SAME'\n",
    "    P1 = tfl.MaxPool2D(pool_size=(8,8),strides=(8,8),padding='same')(A1)\n",
    "    ## CONV2D: 16 filters 2x2, stride 1, padding 'SAME'\n",
    "    Z2 = tfl.Conv2D(filters = 16, kernel_size=(2,2), strides=(1,1), padding='same')(P1)\n",
    "    ## RELU\n",
    "    A2 = tfl.ReLU()(Z2)\n",
    "    ## MAXPOOL: window 4x4, stride 4, padding 'SAME'\n",
    "    P2 = tfl.MaxPool2D(pool_size=(4,4),strides=(4,4),padding='same')(A2)\n",
    "    ## FLATTEN\n",
    "    F = tfl.Flatten()(P2)\n",
    "    ## Dense layer\n",
    "    ## 6 neurons in output layer with softmax activation\n",
    "    outputs = tfl.Dense(units=6,activation='softmax')(F)\n",
    "\n",
    "    model = tf.keras.Model(inputs=input_img, outputs=outputs)\n",
    "    return model"
   ]
  },
  {
   "cell_type": "code",
   "execution_count": 18,
   "id": "f96dce65-3ddd-4b20-a6d0-c4a0061053dc",
   "metadata": {},
   "outputs": [
    {
     "name": "stdout",
     "output_type": "stream",
     "text": [
      "Model: \"model\"\n",
      "_________________________________________________________________\n",
      " Layer (type)                Output Shape              Param #   \n",
      "=================================================================\n",
      " input_1 (InputLayer)        [(None, 64, 64, 3)]       0         \n",
      "                                                                 \n",
      " conv2d (Conv2D)             (None, 64, 64, 8)         392       \n",
      "                                                                 \n",
      " re_lu (ReLU)                (None, 64, 64, 8)         0         \n",
      "                                                                 \n",
      " max_pooling2d (MaxPooling2  (None, 8, 8, 8)           0         \n",
      " D)                                                              \n",
      "                                                                 \n",
      " conv2d_1 (Conv2D)           (None, 8, 8, 16)          528       \n",
      "                                                                 \n",
      " re_lu_1 (ReLU)              (None, 8, 8, 16)          0         \n",
      "                                                                 \n",
      " max_pooling2d_1 (MaxPoolin  (None, 2, 2, 16)          0         \n",
      " g2D)                                                            \n",
      "                                                                 \n",
      " flatten (Flatten)           (None, 64)                0         \n",
      "                                                                 \n",
      " dense (Dense)               (None, 6)                 390       \n",
      "                                                                 \n",
      "=================================================================\n",
      "Total params: 1310 (5.12 KB)\n",
      "Trainable params: 1310 (5.12 KB)\n",
      "Non-trainable params: 0 (0.00 Byte)\n",
      "_________________________________________________________________\n"
     ]
    }
   ],
   "source": [
    "conv_model = convolutional_model((64,64,3))\n",
    "conv_model.summary()"
   ]
  },
  {
   "cell_type": "markdown",
   "id": "7864df2d-17f2-48d0-b80f-fc8f4a171ecc",
   "metadata": {},
   "source": [
    "## Compiling Model"
   ]
  },
  {
   "cell_type": "code",
   "execution_count": 20,
   "id": "33497ca6-4853-40cb-9e8c-deee65607484",
   "metadata": {},
   "outputs": [],
   "source": [
    "conv_model.compile(optimizer='adam',\n",
    "                  loss='categorical_crossentropy',\n",
    "                  metrics=['accuracy'])\n",
    "\n"
   ]
  },
  {
   "cell_type": "code",
   "execution_count": 21,
   "id": "deea3089-d88b-43b5-b26e-d22aa57df178",
   "metadata": {},
   "outputs": [
    {
     "name": "stdout",
     "output_type": "stream",
     "text": [
      "Epoch 1/100\n",
      "68/68 [==============================] - 0s 4ms/step - loss: 1.7934 - accuracy: 0.1815\n",
      "Epoch 2/100\n",
      "68/68 [==============================] - 0s 4ms/step - loss: 1.7727 - accuracy: 0.2176\n",
      "Epoch 3/100\n",
      "68/68 [==============================] - 0s 4ms/step - loss: 1.7463 - accuracy: 0.2935\n",
      "Epoch 4/100\n",
      "68/68 [==============================] - 0s 4ms/step - loss: 1.7102 - accuracy: 0.2907\n",
      "Epoch 5/100\n",
      "68/68 [==============================] - 0s 4ms/step - loss: 1.6507 - accuracy: 0.3676\n",
      "Epoch 6/100\n",
      "68/68 [==============================] - 0s 4ms/step - loss: 1.5629 - accuracy: 0.4463\n",
      "Epoch 7/100\n",
      "68/68 [==============================] - 0s 5ms/step - loss: 1.4760 - accuracy: 0.4407\n",
      "Epoch 8/100\n",
      "68/68 [==============================] - 0s 5ms/step - loss: 1.3783 - accuracy: 0.4843\n",
      "Epoch 9/100\n",
      "68/68 [==============================] - 0s 5ms/step - loss: 1.2904 - accuracy: 0.5111\n",
      "Epoch 10/100\n",
      "68/68 [==============================] - 0s 4ms/step - loss: 1.2266 - accuracy: 0.5417\n",
      "Epoch 11/100\n",
      "68/68 [==============================] - 0s 4ms/step - loss: 1.1417 - accuracy: 0.5648\n",
      "Epoch 12/100\n",
      "68/68 [==============================] - 0s 4ms/step - loss: 1.0858 - accuracy: 0.5898\n",
      "Epoch 13/100\n",
      "68/68 [==============================] - 0s 4ms/step - loss: 1.0492 - accuracy: 0.6185\n",
      "Epoch 14/100\n",
      "68/68 [==============================] - 0s 4ms/step - loss: 0.9965 - accuracy: 0.6380\n",
      "Epoch 15/100\n",
      "68/68 [==============================] - 0s 4ms/step - loss: 0.9525 - accuracy: 0.6537\n",
      "Epoch 16/100\n",
      "68/68 [==============================] - 0s 4ms/step - loss: 0.9457 - accuracy: 0.6500\n",
      "Epoch 17/100\n",
      "68/68 [==============================] - 0s 4ms/step - loss: 0.8925 - accuracy: 0.6630\n",
      "Epoch 18/100\n",
      "68/68 [==============================] - 0s 5ms/step - loss: 0.8539 - accuracy: 0.6778\n",
      "Epoch 19/100\n",
      "68/68 [==============================] - 0s 5ms/step - loss: 0.8195 - accuracy: 0.7176\n",
      "Epoch 20/100\n",
      "68/68 [==============================] - 0s 4ms/step - loss: 0.7891 - accuracy: 0.7241\n",
      "Epoch 21/100\n",
      "68/68 [==============================] - 0s 4ms/step - loss: 0.7667 - accuracy: 0.7278\n",
      "Epoch 22/100\n",
      "68/68 [==============================] - 0s 5ms/step - loss: 0.7408 - accuracy: 0.7370\n",
      "Epoch 23/100\n",
      "68/68 [==============================] - 0s 4ms/step - loss: 0.7320 - accuracy: 0.7407\n",
      "Epoch 24/100\n",
      "68/68 [==============================] - 0s 4ms/step - loss: 0.7127 - accuracy: 0.7509\n",
      "Epoch 25/100\n",
      "68/68 [==============================] - 0s 4ms/step - loss: 0.7160 - accuracy: 0.7352\n",
      "Epoch 26/100\n",
      "68/68 [==============================] - 0s 4ms/step - loss: 0.6694 - accuracy: 0.7593\n",
      "Epoch 27/100\n",
      "68/68 [==============================] - 0s 4ms/step - loss: 0.6520 - accuracy: 0.7713\n",
      "Epoch 28/100\n",
      "68/68 [==============================] - 0s 4ms/step - loss: 0.6505 - accuracy: 0.7657\n",
      "Epoch 29/100\n",
      "68/68 [==============================] - 0s 4ms/step - loss: 0.6281 - accuracy: 0.7806\n",
      "Epoch 30/100\n",
      "68/68 [==============================] - 0s 5ms/step - loss: 0.5846 - accuracy: 0.8046\n",
      "Epoch 31/100\n",
      "68/68 [==============================] - 0s 4ms/step - loss: 0.5804 - accuracy: 0.8093\n",
      "Epoch 32/100\n",
      "68/68 [==============================] - 0s 4ms/step - loss: 0.5627 - accuracy: 0.8120\n",
      "Epoch 33/100\n",
      "68/68 [==============================] - 0s 4ms/step - loss: 0.5426 - accuracy: 0.8139\n",
      "Epoch 34/100\n",
      "68/68 [==============================] - 0s 4ms/step - loss: 0.5385 - accuracy: 0.8028\n",
      "Epoch 35/100\n",
      "68/68 [==============================] - 0s 4ms/step - loss: 0.5196 - accuracy: 0.8315\n",
      "Epoch 36/100\n",
      "68/68 [==============================] - 0s 4ms/step - loss: 0.5124 - accuracy: 0.8241\n",
      "Epoch 37/100\n",
      "68/68 [==============================] - 0s 4ms/step - loss: 0.5013 - accuracy: 0.8278\n",
      "Epoch 38/100\n",
      "68/68 [==============================] - 0s 4ms/step - loss: 0.5075 - accuracy: 0.8204\n",
      "Epoch 39/100\n",
      "68/68 [==============================] - 0s 4ms/step - loss: 0.4769 - accuracy: 0.8491\n",
      "Epoch 40/100\n",
      "68/68 [==============================] - 0s 4ms/step - loss: 0.4749 - accuracy: 0.8333\n",
      "Epoch 41/100\n",
      "68/68 [==============================] - 0s 4ms/step - loss: 0.4621 - accuracy: 0.8361\n",
      "Epoch 42/100\n",
      "68/68 [==============================] - 0s 4ms/step - loss: 0.4451 - accuracy: 0.8509\n",
      "Epoch 43/100\n",
      "68/68 [==============================] - 0s 4ms/step - loss: 0.4507 - accuracy: 0.8407\n",
      "Epoch 44/100\n",
      "68/68 [==============================] - 0s 4ms/step - loss: 0.4351 - accuracy: 0.8528\n",
      "Epoch 45/100\n",
      "68/68 [==============================] - 0s 4ms/step - loss: 0.4402 - accuracy: 0.8509\n",
      "Epoch 46/100\n",
      "68/68 [==============================] - 0s 4ms/step - loss: 0.4216 - accuracy: 0.8704\n",
      "Epoch 47/100\n",
      "68/68 [==============================] - 0s 4ms/step - loss: 0.4297 - accuracy: 0.8556\n",
      "Epoch 48/100\n",
      "68/68 [==============================] - 0s 4ms/step - loss: 0.4024 - accuracy: 0.8667\n",
      "Epoch 49/100\n",
      "68/68 [==============================] - 0s 4ms/step - loss: 0.4058 - accuracy: 0.8620\n",
      "Epoch 50/100\n",
      "68/68 [==============================] - 0s 4ms/step - loss: 0.4361 - accuracy: 0.8537\n",
      "Epoch 51/100\n",
      "68/68 [==============================] - 0s 4ms/step - loss: 0.3941 - accuracy: 0.8593\n",
      "Epoch 52/100\n",
      "68/68 [==============================] - 0s 4ms/step - loss: 0.4032 - accuracy: 0.8611\n",
      "Epoch 53/100\n",
      "68/68 [==============================] - 0s 4ms/step - loss: 0.3700 - accuracy: 0.8815\n",
      "Epoch 54/100\n",
      "68/68 [==============================] - 0s 5ms/step - loss: 0.3627 - accuracy: 0.8833\n",
      "Epoch 55/100\n",
      "68/68 [==============================] - 0s 5ms/step - loss: 0.3650 - accuracy: 0.8778\n",
      "Epoch 56/100\n",
      "68/68 [==============================] - 0s 5ms/step - loss: 0.3632 - accuracy: 0.8806\n",
      "Epoch 57/100\n",
      "68/68 [==============================] - 0s 4ms/step - loss: 0.3716 - accuracy: 0.8731\n",
      "Epoch 58/100\n",
      "68/68 [==============================] - 0s 5ms/step - loss: 0.3562 - accuracy: 0.8833\n",
      "Epoch 59/100\n",
      "68/68 [==============================] - 0s 5ms/step - loss: 0.3509 - accuracy: 0.8880\n",
      "Epoch 60/100\n",
      "68/68 [==============================] - 0s 5ms/step - loss: 0.3458 - accuracy: 0.8750\n",
      "Epoch 61/100\n",
      "68/68 [==============================] - 0s 4ms/step - loss: 0.3502 - accuracy: 0.8750\n",
      "Epoch 62/100\n",
      "68/68 [==============================] - 0s 4ms/step - loss: 0.3287 - accuracy: 0.8870\n",
      "Epoch 63/100\n",
      "68/68 [==============================] - 0s 5ms/step - loss: 0.3281 - accuracy: 0.8926\n",
      "Epoch 64/100\n",
      "68/68 [==============================] - 0s 4ms/step - loss: 0.3266 - accuracy: 0.8898\n",
      "Epoch 65/100\n",
      "68/68 [==============================] - 0s 4ms/step - loss: 0.3141 - accuracy: 0.8972\n",
      "Epoch 66/100\n",
      "68/68 [==============================] - 0s 4ms/step - loss: 0.3228 - accuracy: 0.8852\n",
      "Epoch 67/100\n",
      "68/68 [==============================] - 0s 4ms/step - loss: 0.3129 - accuracy: 0.8889\n",
      "Epoch 68/100\n",
      "68/68 [==============================] - 0s 4ms/step - loss: 0.3053 - accuracy: 0.8991\n",
      "Epoch 69/100\n",
      "68/68 [==============================] - 0s 4ms/step - loss: 0.3115 - accuracy: 0.8889\n",
      "Epoch 70/100\n",
      "68/68 [==============================] - 0s 4ms/step - loss: 0.3131 - accuracy: 0.8880\n",
      "Epoch 71/100\n",
      "68/68 [==============================] - 0s 4ms/step - loss: 0.3067 - accuracy: 0.8917\n",
      "Epoch 72/100\n",
      "68/68 [==============================] - 0s 4ms/step - loss: 0.2916 - accuracy: 0.8981\n",
      "Epoch 73/100\n",
      "68/68 [==============================] - 0s 4ms/step - loss: 0.2839 - accuracy: 0.9056\n",
      "Epoch 74/100\n",
      "68/68 [==============================] - 0s 4ms/step - loss: 0.2885 - accuracy: 0.8981\n",
      "Epoch 75/100\n",
      "68/68 [==============================] - 0s 4ms/step - loss: 0.2864 - accuracy: 0.9000\n",
      "Epoch 76/100\n",
      "68/68 [==============================] - 0s 4ms/step - loss: 0.2876 - accuracy: 0.8963\n",
      "Epoch 77/100\n",
      "68/68 [==============================] - 0s 4ms/step - loss: 0.2780 - accuracy: 0.9056\n",
      "Epoch 78/100\n",
      "68/68 [==============================] - 0s 4ms/step - loss: 0.2921 - accuracy: 0.8963\n",
      "Epoch 79/100\n",
      "68/68 [==============================] - 0s 4ms/step - loss: 0.2692 - accuracy: 0.9111\n",
      "Epoch 80/100\n",
      "68/68 [==============================] - 0s 4ms/step - loss: 0.2685 - accuracy: 0.9074\n",
      "Epoch 81/100\n",
      "68/68 [==============================] - 0s 4ms/step - loss: 0.2648 - accuracy: 0.9102\n",
      "Epoch 82/100\n",
      "68/68 [==============================] - 0s 4ms/step - loss: 0.2666 - accuracy: 0.9037\n",
      "Epoch 83/100\n",
      "68/68 [==============================] - 0s 4ms/step - loss: 0.2594 - accuracy: 0.9074\n",
      "Epoch 84/100\n",
      "68/68 [==============================] - 0s 4ms/step - loss: 0.2600 - accuracy: 0.9083\n",
      "Epoch 85/100\n",
      "68/68 [==============================] - 0s 4ms/step - loss: 0.2538 - accuracy: 0.9102\n",
      "Epoch 86/100\n",
      "68/68 [==============================] - 0s 4ms/step - loss: 0.2567 - accuracy: 0.9056\n",
      "Epoch 87/100\n",
      "68/68 [==============================] - 0s 4ms/step - loss: 0.2586 - accuracy: 0.9028\n",
      "Epoch 88/100\n",
      "68/68 [==============================] - 0s 4ms/step - loss: 0.2507 - accuracy: 0.9185\n",
      "Epoch 89/100\n",
      "68/68 [==============================] - 0s 5ms/step - loss: 0.2615 - accuracy: 0.9028\n",
      "Epoch 90/100\n",
      "68/68 [==============================] - 0s 5ms/step - loss: 0.2409 - accuracy: 0.9194\n",
      "Epoch 91/100\n",
      "68/68 [==============================] - 0s 4ms/step - loss: 0.2541 - accuracy: 0.9102\n",
      "Epoch 92/100\n",
      "68/68 [==============================] - 0s 4ms/step - loss: 0.2388 - accuracy: 0.9287\n",
      "Epoch 93/100\n",
      "68/68 [==============================] - 0s 4ms/step - loss: 0.2459 - accuracy: 0.9139\n",
      "Epoch 94/100\n",
      "68/68 [==============================] - 0s 4ms/step - loss: 0.2525 - accuracy: 0.9139\n",
      "Epoch 95/100\n",
      "68/68 [==============================] - 0s 4ms/step - loss: 0.2323 - accuracy: 0.9148\n",
      "Epoch 96/100\n",
      "68/68 [==============================] - 0s 4ms/step - loss: 0.2414 - accuracy: 0.9157\n",
      "Epoch 97/100\n",
      "68/68 [==============================] - 0s 4ms/step - loss: 0.2237 - accuracy: 0.9296\n",
      "Epoch 98/100\n",
      "68/68 [==============================] - 0s 5ms/step - loss: 0.2222 - accuracy: 0.9213\n",
      "Epoch 99/100\n",
      "68/68 [==============================] - 0s 5ms/step - loss: 0.2136 - accuracy: 0.9315\n",
      "Epoch 100/100\n",
      "68/68 [==============================] - 0s 5ms/step - loss: 0.2204 - accuracy: 0.9222\n"
     ]
    },
    {
     "data": {
      "text/plain": [
       "<keras.src.callbacks.History at 0x283e8a8f0>"
      ]
     },
     "execution_count": 21,
     "metadata": {},
     "output_type": "execute_result"
    }
   ],
   "source": [
    "conv_model.fit(X_train, Y_train, epochs=100, batch_size=16)"
   ]
  },
  {
   "cell_type": "code",
   "execution_count": null,
   "id": "6db468ab-5d63-4ea7-a08c-9660053734e6",
   "metadata": {},
   "outputs": [],
   "source": []
  }
 ],
 "metadata": {
  "kernelspec": {
   "display_name": "Python 3 (ipykernel)",
   "language": "python",
   "name": "python3"
  },
  "language_info": {
   "codemirror_mode": {
    "name": "ipython",
    "version": 3
   },
   "file_extension": ".py",
   "mimetype": "text/x-python",
   "name": "python",
   "nbconvert_exporter": "python",
   "pygments_lexer": "ipython3",
   "version": "3.10.7"
  }
 },
 "nbformat": 4,
 "nbformat_minor": 5
}
